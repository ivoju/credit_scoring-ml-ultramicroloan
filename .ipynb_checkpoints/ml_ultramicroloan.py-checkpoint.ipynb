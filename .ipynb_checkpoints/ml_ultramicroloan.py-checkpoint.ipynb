{
 "cells": [
  {
   "cell_type": "code",
   "execution_count": 2,
   "metadata": {},
   "outputs": [],
   "source": [
    "import pandas as pd\n",
    "\n",
    "import matplotlib.pyplot as plt\n",
    "import logging\n",
    "import json\n",
    "import re\n",
    "from numpy.random import randint\n",
    "from common import *\n",
    "import pandas as pd\n",
    "import numpy as np\n",
    "import pickle\n",
    "import tensorflow as tf\n",
    "from sklearn.model_selection import train_test_split, cross_val_score, KFold\n",
    "from sklearn.preprocessing import LabelEncoder, OneHotEncoder, Imputer, MinMaxScaler, StandardScaler\n",
    "from sklearn.ensemble import RandomForestClassifier, GradientBoostingClassifier, AdaBoostClassifier\n",
    "from sklearn.tree import DecisionTreeClassifier\n",
    "from sklearn.linear_model import ElasticNet, ElasticNetCV\n",
    "from sklearn import svm\n",
    "from sklearn import metrics\n",
    "from sklearn.model_selection import GridSearchCV, cross_val_score\n",
    "from sklearn.externals import joblib\n",
    "from sklearn.utils import resample\n",
    "import lime\n",
    "from lime import lime_tabular\n",
    "import seaborn as sns\n",
    "import random\n",
    "from imblearn.over_sampling import SMOTE\n",
    "from IPython.display import Image\n",
    "\n",
    "from common import *\n",
    "from common.ml_dev import *\n",
    "from common.ml_prod import *\n",
    "#import xgboost_explainer as xgb_exp\n",
    "\n",
    "#data import\n",
    "# import wget\n",
    "import urllib\n",
    "\n",
    "# regex\n",
    "import re\n",
    "\n",
    "#time\n",
    "import pytz as tz\n",
    "from datetime import datetime\n",
    "\n",
    "#data explore\n",
    "import numpy as np\n",
    "np.random.seed(1337)\n",
    "\n",
    "#support for reading excel files\n",
    "#import xlrd\n",
    "\n",
    "import keras\n",
    "\n",
    "from sklearn.metrics import roc_curve, auc, roc_auc_score, log_loss, accuracy_score, confusion_matrix\n",
    "from sklearn.feature_selection import SelectFpr, SelectKBest, f_classif\n",
    "from sklearn import preprocessing\n",
    "from sklearn import linear_model\n",
    "from sklearn.ensemble import RandomForestClassifier\n",
    "import xgboost as xgb\n",
    "\n",
    "\n",
    "import warnings\n",
    "import itertools\n",
    "\n",
    "from keras.callbacks import Callback\n",
    "\n",
    "from keras.models import Sequential\n",
    "from keras.layers.core import Dense, Activation, Dropout\n",
    "\n",
    "#%matplotlib inline\n",
    "import matplotlib.pyplot as plt\n",
    "\n",
    "#defaults\n",
    "plt.rcParams['figure.figsize'] = (20.0, 20.0)\n",
    "plt.rcParams.update({'font.size': 10})\n",
    "plt.rcParams['xtick.major.pad']='5'\n",
    "plt.rcParams['ytick.major.pad']='5'\n",
    "plt.style.use('ggplot')\n",
    "\n",
    "#%matplotlib inline\n",
    "pd.options.display.html.table_schema = True\n",
    "pd.options.display.max_columns = 99\n",
    "#%env JOBLIB_TEMP_FOLDER=/tmp"
   ]
  },
  {
   "cell_type": "code",
   "execution_count": 231,
   "metadata": {},
   "outputs": [],
   "source": [
    "# df = pd.read_csv(\"./data/las_dataset_kupedes_clean_v3_eda_v2.csv\")\n",
    "# df = df.loc[df['plafond']<=25000000,:]\n",
    "# df = df.drop(labels=['status_bukti_kepemilikan_agunan','ratio_likuidasi_agunan_to_plafond','pemasaran'], axis=1)"
   ]
  },
  {
   "cell_type": "code",
   "execution_count": 232,
   "metadata": {},
   "outputs": [],
   "source": [
    "# ### Split dataset\n",
    "# from sklearn.pipeline import Pipeline\n",
    "# #from imblearn.pipeline import Pipeline\n",
    "# from imblearn.pipeline import make_pipeline"
   ]
  },
  {
   "cell_type": "code",
   "execution_count": 233,
   "metadata": {},
   "outputs": [],
   "source": [
    "# dtype = df.dtypes.drop([\n",
    "#   'tgl_mulai','target',\n",
    "# #  'jenis_fasilitas','bln_mulai',\n",
    "# #  'suku_bunga','baru_perpanjangan','jabatan','bidang_pekerjaan','jenis_pekerjaan','region'\n",
    "# ])\n",
    "# list_col = dtype.index.values.tolist()"
   ]
  },
  {
   "cell_type": "code",
   "execution_count": 196,
   "metadata": {},
   "outputs": [
    {
     "data": {
      "application/vnd.dataresource+json": {
       "data": [
        {
         "index": "jangka_waktu",
         "values": {
          "alignment": 8,
          "byteorder": "=",
          "descr": [
           [
            "",
            "<i8"
           ]
          ],
          "flags": 0,
          "isalignedstruct": false,
          "isnative": true,
          "kind": "i",
          "name": "int64",
          "ndim": 0,
          "num": 7,
          "str": "<i8"
         }
        },
        {
         "index": "plafond",
         "values": {
          "alignment": 8,
          "byteorder": "=",
          "descr": [
           [
            "",
            "<f8"
           ]
          ],
          "flags": 0,
          "isalignedstruct": false,
          "isnative": true,
          "kind": "f",
          "name": "float64",
          "ndim": 0,
          "num": 12,
          "str": "<f8"
         }
        },
        {
         "index": "jenis_kelamin",
         "values": {
          "alignment": 8,
          "byteorder": "|",
          "descr": [
           [
            "",
            "|O"
           ]
          ],
          "flags": 63,
          "isalignedstruct": false,
          "isnative": true,
          "kind": "O",
          "name": "object",
          "ndim": 0,
          "num": 17,
          "str": "|O"
         }
        },
        {
         "index": "pendidikan",
         "values": {
          "alignment": 8,
          "byteorder": "|",
          "descr": [
           [
            "",
            "|O"
           ]
          ],
          "flags": 63,
          "isalignedstruct": false,
          "isnative": true,
          "kind": "O",
          "name": "object",
          "ndim": 0,
          "num": 17,
          "str": "|O"
         }
        },
        {
         "index": "status_nikah",
         "values": {
          "alignment": 8,
          "byteorder": "|",
          "descr": [
           [
            "",
            "|O"
           ]
          ],
          "flags": 63,
          "isalignedstruct": false,
          "isnative": true,
          "kind": "O",
          "name": "object",
          "ndim": 0,
          "num": 17,
          "str": "|O"
         }
        },
        {
         "index": "jumlah_anak_dlm_tanggungan",
         "values": {
          "alignment": 8,
          "byteorder": "=",
          "descr": [
           [
            "",
            "<i8"
           ]
          ],
          "flags": 0,
          "isalignedstruct": false,
          "isnative": true,
          "kind": "i",
          "name": "int64",
          "ndim": 0,
          "num": 7,
          "str": "<i8"
         }
        },
        {
         "index": "kepemilikan_tempat_tinggal",
         "values": {
          "alignment": 8,
          "byteorder": "|",
          "descr": [
           [
            "",
            "|O"
           ]
          ],
          "flags": 63,
          "isalignedstruct": false,
          "isnative": true,
          "kind": "O",
          "name": "object",
          "ndim": 0,
          "num": 17,
          "str": "|O"
         }
        },
        {
         "index": "debitur_lama",
         "values": {
          "alignment": 8,
          "byteorder": "=",
          "descr": [
           [
            "",
            "<f8"
           ]
          ],
          "flags": 0,
          "isalignedstruct": false,
          "isnative": true,
          "kind": "f",
          "name": "float64",
          "ndim": 0,
          "num": 12,
          "str": "<f8"
         }
        },
        {
         "index": "tujuan_penggunaan",
         "values": {
          "alignment": 8,
          "byteorder": "|",
          "descr": [
           [
            "",
            "|O"
           ]
          ],
          "flags": 63,
          "isalignedstruct": false,
          "isnative": true,
          "kind": "O",
          "name": "object",
          "ndim": 0,
          "num": 17,
          "str": "|O"
         }
        },
        {
         "index": "lama_bekerja",
         "values": {
          "alignment": 8,
          "byteorder": "=",
          "descr": [
           [
            "",
            "<i8"
           ]
          ],
          "flags": 0,
          "isalignedstruct": false,
          "isnative": true,
          "kind": "i",
          "name": "int64",
          "ndim": 0,
          "num": 7,
          "str": "<i8"
         }
        },
        {
         "index": "simpanan",
         "values": {
          "alignment": 8,
          "byteorder": "=",
          "descr": [
           [
            "",
            "<f8"
           ]
          ],
          "flags": 0,
          "isalignedstruct": false,
          "isnative": true,
          "kind": "f",
          "name": "float64",
          "ndim": 0,
          "num": 12,
          "str": "<f8"
         }
        },
        {
         "index": "usia",
         "values": {
          "alignment": 8,
          "byteorder": "=",
          "descr": [
           [
            "",
            "<f8"
           ]
          ],
          "flags": 0,
          "isalignedstruct": false,
          "isnative": true,
          "kind": "f",
          "name": "float64",
          "ndim": 0,
          "num": 12,
          "str": "<f8"
         }
        },
        {
         "index": "ratio_pendatapan_to_angsuran",
         "values": {
          "alignment": 8,
          "byteorder": "=",
          "descr": [
           [
            "",
            "<f8"
           ]
          ],
          "flags": 0,
          "isalignedstruct": false,
          "isnative": true,
          "kind": "f",
          "name": "float64",
          "ndim": 0,
          "num": 12,
          "str": "<f8"
         }
        },
        {
         "index": "punya_usaha_sampingan",
         "values": {
          "alignment": 8,
          "byteorder": "=",
          "descr": [
           [
            "",
            "<f8"
           ]
          ],
          "flags": 0,
          "isalignedstruct": false,
          "isnative": true,
          "kind": "f",
          "name": "float64",
          "ndim": 0,
          "num": 12,
          "str": "<f8"
         }
        }
       ],
       "schema": {
        "fields": [
         {
          "name": "index",
          "type": "string"
         },
         {
          "name": "values",
          "type": "string"
         }
        ],
        "pandas_version": "0.20.0",
        "primaryKey": [
         "index"
        ]
       }
      },
      "text/plain": [
       "jangka_waktu                      int64\n",
       "plafond                         float64\n",
       "jenis_kelamin                    object\n",
       "pendidikan                       object\n",
       "status_nikah                     object\n",
       "jumlah_anak_dlm_tanggungan        int64\n",
       "kepemilikan_tempat_tinggal       object\n",
       "debitur_lama                    float64\n",
       "tujuan_penggunaan                object\n",
       "lama_bekerja                      int64\n",
       "simpanan                        float64\n",
       "usia                            float64\n",
       "ratio_pendatapan_to_angsuran    float64\n",
       "punya_usaha_sampingan           float64\n",
       "dtype: object"
      ]
     },
     "execution_count": 196,
     "metadata": {},
     "output_type": "execute_result"
    }
   ],
   "source": [
    "# X_test.dtypes"
   ]
  },
  {
   "cell_type": "code",
   "execution_count": 134,
   "metadata": {},
   "outputs": [
    {
     "data": {
      "application/vnd.dataresource+json": {
       "data": [
        {
         "debitur_lama": 1,
         "index": 17,
         "jangka_waktu": 24,
         "jenis_kelamin": "M",
         "jumlah_anak_dlm_tanggungan": 1,
         "kepemilikan_tempat_tinggal": "MilikSendiri",
         "lama_bekerja": 1,
         "pendidikan": "SD/SMP/SMU/SMK",
         "plafond": 25000000,
         "punya_usaha_sampingan": 1,
         "ratio_pendatapan_to_angsuran": 1.4148095699,
         "simpanan": 1238400,
         "status_nikah": "BelumMenikah",
         "tujuan_penggunaan": "KI",
         "usia": 71
        },
        {
         "debitur_lama": 1,
         "index": 18,
         "jangka_waktu": 18,
         "jenis_kelamin": "F",
         "jumlah_anak_dlm_tanggungan": 2,
         "kepemilikan_tempat_tinggal": "MilikSendiri",
         "lama_bekerja": 4,
         "pendidikan": "SD/SMP/SMU/SMK",
         "plafond": 14000000,
         "punya_usaha_sampingan": 0,
         "ratio_pendatapan_to_angsuran": 2.6432649609,
         "simpanan": 1000000,
         "status_nikah": "BelumMenikah",
         "tujuan_penggunaan": "KMK",
         "usia": 44
        }
       ],
       "schema": {
        "fields": [
         {
          "name": "index",
          "type": "integer"
         },
         {
          "name": "jangka_waktu",
          "type": "integer"
         },
         {
          "name": "plafond",
          "type": "number"
         },
         {
          "name": "jenis_kelamin",
          "type": "string"
         },
         {
          "name": "pendidikan",
          "type": "string"
         },
         {
          "name": "status_nikah",
          "type": "string"
         },
         {
          "name": "jumlah_anak_dlm_tanggungan",
          "type": "integer"
         },
         {
          "name": "kepemilikan_tempat_tinggal",
          "type": "string"
         },
         {
          "name": "debitur_lama",
          "type": "number"
         },
         {
          "name": "tujuan_penggunaan",
          "type": "string"
         },
         {
          "name": "lama_bekerja",
          "type": "integer"
         },
         {
          "name": "simpanan",
          "type": "number"
         },
         {
          "name": "usia",
          "type": "number"
         },
         {
          "name": "ratio_pendatapan_to_angsuran",
          "type": "number"
         },
         {
          "name": "punya_usaha_sampingan",
          "type": "number"
         }
        ],
        "pandas_version": "0.20.0",
        "primaryKey": [
         "index"
        ]
       }
      },
      "text/html": [
       "<div>\n",
       "<style scoped>\n",
       "    .dataframe tbody tr th:only-of-type {\n",
       "        vertical-align: middle;\n",
       "    }\n",
       "\n",
       "    .dataframe tbody tr th {\n",
       "        vertical-align: top;\n",
       "    }\n",
       "\n",
       "    .dataframe thead th {\n",
       "        text-align: right;\n",
       "    }\n",
       "</style>\n",
       "<table border=\"1\" class=\"dataframe\">\n",
       "  <thead>\n",
       "    <tr style=\"text-align: right;\">\n",
       "      <th></th>\n",
       "      <th>jangka_waktu</th>\n",
       "      <th>plafond</th>\n",
       "      <th>jenis_kelamin</th>\n",
       "      <th>pendidikan</th>\n",
       "      <th>status_nikah</th>\n",
       "      <th>jumlah_anak_dlm_tanggungan</th>\n",
       "      <th>kepemilikan_tempat_tinggal</th>\n",
       "      <th>debitur_lama</th>\n",
       "      <th>tujuan_penggunaan</th>\n",
       "      <th>lama_bekerja</th>\n",
       "      <th>simpanan</th>\n",
       "      <th>usia</th>\n",
       "      <th>ratio_pendatapan_to_angsuran</th>\n",
       "      <th>punya_usaha_sampingan</th>\n",
       "    </tr>\n",
       "  </thead>\n",
       "  <tbody>\n",
       "    <tr>\n",
       "      <th>17</th>\n",
       "      <td>24</td>\n",
       "      <td>25000000.0</td>\n",
       "      <td>M</td>\n",
       "      <td>SD/SMP/SMU/SMK</td>\n",
       "      <td>BelumMenikah</td>\n",
       "      <td>1</td>\n",
       "      <td>MilikSendiri</td>\n",
       "      <td>1.0</td>\n",
       "      <td>KI</td>\n",
       "      <td>1</td>\n",
       "      <td>1238400.0</td>\n",
       "      <td>71.0</td>\n",
       "      <td>1.414810</td>\n",
       "      <td>1.0</td>\n",
       "    </tr>\n",
       "    <tr>\n",
       "      <th>18</th>\n",
       "      <td>18</td>\n",
       "      <td>14000000.0</td>\n",
       "      <td>F</td>\n",
       "      <td>SD/SMP/SMU/SMK</td>\n",
       "      <td>BelumMenikah</td>\n",
       "      <td>2</td>\n",
       "      <td>MilikSendiri</td>\n",
       "      <td>1.0</td>\n",
       "      <td>KMK</td>\n",
       "      <td>4</td>\n",
       "      <td>1000000.0</td>\n",
       "      <td>44.0</td>\n",
       "      <td>2.643265</td>\n",
       "      <td>0.0</td>\n",
       "    </tr>\n",
       "  </tbody>\n",
       "</table>\n",
       "</div>"
      ],
      "text/plain": [
       "    jangka_waktu     plafond jenis_kelamin      pendidikan  status_nikah  \\\n",
       "17            24  25000000.0             M  SD/SMP/SMU/SMK  BelumMenikah   \n",
       "18            18  14000000.0             F  SD/SMP/SMU/SMK  BelumMenikah   \n",
       "\n",
       "    jumlah_anak_dlm_tanggungan kepemilikan_tempat_tinggal  debitur_lama  \\\n",
       "17                           1               MilikSendiri           1.0   \n",
       "18                           2               MilikSendiri           1.0   \n",
       "\n",
       "   tujuan_penggunaan  lama_bekerja   simpanan  usia  \\\n",
       "17                KI             1  1238400.0  71.0   \n",
       "18               KMK             4  1000000.0  44.0   \n",
       "\n",
       "    ratio_pendatapan_to_angsuran  punya_usaha_sampingan  \n",
       "17                      1.414810                    1.0  \n",
       "18                      2.643265                    0.0  "
      ]
     },
     "execution_count": 134,
     "metadata": {},
     "output_type": "execute_result"
    }
   ],
   "source": [
    "# X_test.loc[10:20,:]"
   ]
  },
  {
   "cell_type": "code",
   "execution_count": 260,
   "metadata": {},
   "outputs": [],
   "source": [
    "data = {'tgl_mulai': ['2016-02-09'], 'jangka_waktu': [24], 'plafond': [25000000.0], 'jenis_kelamin': ['M'], 'pendidikan': ['SD/SMP/SMU/SMK'], 'status_nikah': ['BelumMenikah'], 'jumlah_anak_dlm_tanggungan': [1], 'kepemilikan_tempat_tinggal': ['MilikSendiri'], 'debitur_lama': [1.0], 'tujuan_penggunaan': ['KI'], 'status_bukti_kepemilikan_agunan': ['SHM'], 'lama_bekerja': [1], 'pemasaran': [0.040783], 'simpanan': [1238400.0], 'usia': [71.0], 'ratio_pendatapan_to_angsuran': [1.414810], 'punya_usaha_sampingan': [1.0], 'ratio_likuidasi_agunan_to_plafond': [4.080000], 'target': [0]}"
   ]
  },
  {
   "cell_type": "code",
   "execution_count": 261,
   "metadata": {},
   "outputs": [],
   "source": [
    "df_create = pd.DataFrame(data=data)"
   ]
  },
  {
   "cell_type": "code",
   "execution_count": 262,
   "metadata": {},
   "outputs": [],
   "source": [
    "df_create = df_create[['tgl_mulai', 'jangka_waktu', 'plafond', 'jenis_kelamin', 'pendidikan', 'status_nikah', 'jumlah_anak_dlm_tanggungan', 'kepemilikan_tempat_tinggal', 'debitur_lama', 'tujuan_penggunaan', 'status_bukti_kepemilikan_agunan', 'lama_bekerja', 'pemasaran', 'simpanan', 'usia', 'ratio_pendatapan_to_angsuran', 'punya_usaha_sampingan', 'ratio_likuidasi_agunan_to_plafond', 'target']]"
   ]
  },
  {
   "cell_type": "code",
   "execution_count": 263,
   "metadata": {},
   "outputs": [
    {
     "data": {
      "application/vnd.dataresource+json": {
       "data": [
        {
         "index": "tgl_mulai",
         "values": {
          "alignment": 8,
          "byteorder": "|",
          "descr": [
           [
            "",
            "|O"
           ]
          ],
          "flags": 63,
          "isalignedstruct": false,
          "isnative": true,
          "kind": "O",
          "name": "object",
          "ndim": 0,
          "num": 17,
          "str": "|O"
         }
        },
        {
         "index": "jangka_waktu",
         "values": {
          "alignment": 8,
          "byteorder": "=",
          "descr": [
           [
            "",
            "<i8"
           ]
          ],
          "flags": 0,
          "isalignedstruct": false,
          "isnative": true,
          "kind": "i",
          "name": "int64",
          "ndim": 0,
          "num": 7,
          "str": "<i8"
         }
        },
        {
         "index": "plafond",
         "values": {
          "alignment": 8,
          "byteorder": "=",
          "descr": [
           [
            "",
            "<f8"
           ]
          ],
          "flags": 0,
          "isalignedstruct": false,
          "isnative": true,
          "kind": "f",
          "name": "float64",
          "ndim": 0,
          "num": 12,
          "str": "<f8"
         }
        },
        {
         "index": "jenis_kelamin",
         "values": {
          "alignment": 8,
          "byteorder": "|",
          "descr": [
           [
            "",
            "|O"
           ]
          ],
          "flags": 63,
          "isalignedstruct": false,
          "isnative": true,
          "kind": "O",
          "name": "object",
          "ndim": 0,
          "num": 17,
          "str": "|O"
         }
        },
        {
         "index": "pendidikan",
         "values": {
          "alignment": 8,
          "byteorder": "|",
          "descr": [
           [
            "",
            "|O"
           ]
          ],
          "flags": 63,
          "isalignedstruct": false,
          "isnative": true,
          "kind": "O",
          "name": "object",
          "ndim": 0,
          "num": 17,
          "str": "|O"
         }
        },
        {
         "index": "status_nikah",
         "values": {
          "alignment": 8,
          "byteorder": "|",
          "descr": [
           [
            "",
            "|O"
           ]
          ],
          "flags": 63,
          "isalignedstruct": false,
          "isnative": true,
          "kind": "O",
          "name": "object",
          "ndim": 0,
          "num": 17,
          "str": "|O"
         }
        },
        {
         "index": "jumlah_anak_dlm_tanggungan",
         "values": {
          "alignment": 8,
          "byteorder": "=",
          "descr": [
           [
            "",
            "<i8"
           ]
          ],
          "flags": 0,
          "isalignedstruct": false,
          "isnative": true,
          "kind": "i",
          "name": "int64",
          "ndim": 0,
          "num": 7,
          "str": "<i8"
         }
        },
        {
         "index": "kepemilikan_tempat_tinggal",
         "values": {
          "alignment": 8,
          "byteorder": "|",
          "descr": [
           [
            "",
            "|O"
           ]
          ],
          "flags": 63,
          "isalignedstruct": false,
          "isnative": true,
          "kind": "O",
          "name": "object",
          "ndim": 0,
          "num": 17,
          "str": "|O"
         }
        },
        {
         "index": "debitur_lama",
         "values": {
          "alignment": 8,
          "byteorder": "=",
          "descr": [
           [
            "",
            "<f8"
           ]
          ],
          "flags": 0,
          "isalignedstruct": false,
          "isnative": true,
          "kind": "f",
          "name": "float64",
          "ndim": 0,
          "num": 12,
          "str": "<f8"
         }
        },
        {
         "index": "tujuan_penggunaan",
         "values": {
          "alignment": 8,
          "byteorder": "|",
          "descr": [
           [
            "",
            "|O"
           ]
          ],
          "flags": 63,
          "isalignedstruct": false,
          "isnative": true,
          "kind": "O",
          "name": "object",
          "ndim": 0,
          "num": 17,
          "str": "|O"
         }
        },
        {
         "index": "status_bukti_kepemilikan_agunan",
         "values": {
          "alignment": 8,
          "byteorder": "|",
          "descr": [
           [
            "",
            "|O"
           ]
          ],
          "flags": 63,
          "isalignedstruct": false,
          "isnative": true,
          "kind": "O",
          "name": "object",
          "ndim": 0,
          "num": 17,
          "str": "|O"
         }
        },
        {
         "index": "lama_bekerja",
         "values": {
          "alignment": 8,
          "byteorder": "=",
          "descr": [
           [
            "",
            "<i8"
           ]
          ],
          "flags": 0,
          "isalignedstruct": false,
          "isnative": true,
          "kind": "i",
          "name": "int64",
          "ndim": 0,
          "num": 7,
          "str": "<i8"
         }
        },
        {
         "index": "pemasaran",
         "values": {
          "alignment": 8,
          "byteorder": "=",
          "descr": [
           [
            "",
            "<f8"
           ]
          ],
          "flags": 0,
          "isalignedstruct": false,
          "isnative": true,
          "kind": "f",
          "name": "float64",
          "ndim": 0,
          "num": 12,
          "str": "<f8"
         }
        },
        {
         "index": "simpanan",
         "values": {
          "alignment": 8,
          "byteorder": "=",
          "descr": [
           [
            "",
            "<f8"
           ]
          ],
          "flags": 0,
          "isalignedstruct": false,
          "isnative": true,
          "kind": "f",
          "name": "float64",
          "ndim": 0,
          "num": 12,
          "str": "<f8"
         }
        },
        {
         "index": "usia",
         "values": {
          "alignment": 8,
          "byteorder": "=",
          "descr": [
           [
            "",
            "<f8"
           ]
          ],
          "flags": 0,
          "isalignedstruct": false,
          "isnative": true,
          "kind": "f",
          "name": "float64",
          "ndim": 0,
          "num": 12,
          "str": "<f8"
         }
        },
        {
         "index": "ratio_pendatapan_to_angsuran",
         "values": {
          "alignment": 8,
          "byteorder": "=",
          "descr": [
           [
            "",
            "<f8"
           ]
          ],
          "flags": 0,
          "isalignedstruct": false,
          "isnative": true,
          "kind": "f",
          "name": "float64",
          "ndim": 0,
          "num": 12,
          "str": "<f8"
         }
        },
        {
         "index": "punya_usaha_sampingan",
         "values": {
          "alignment": 8,
          "byteorder": "=",
          "descr": [
           [
            "",
            "<f8"
           ]
          ],
          "flags": 0,
          "isalignedstruct": false,
          "isnative": true,
          "kind": "f",
          "name": "float64",
          "ndim": 0,
          "num": 12,
          "str": "<f8"
         }
        },
        {
         "index": "ratio_likuidasi_agunan_to_plafond",
         "values": {
          "alignment": 8,
          "byteorder": "=",
          "descr": [
           [
            "",
            "<f8"
           ]
          ],
          "flags": 0,
          "isalignedstruct": false,
          "isnative": true,
          "kind": "f",
          "name": "float64",
          "ndim": 0,
          "num": 12,
          "str": "<f8"
         }
        },
        {
         "index": "target",
         "values": {
          "alignment": 8,
          "byteorder": "=",
          "descr": [
           [
            "",
            "<i8"
           ]
          ],
          "flags": 0,
          "isalignedstruct": false,
          "isnative": true,
          "kind": "i",
          "name": "int64",
          "ndim": 0,
          "num": 7,
          "str": "<i8"
         }
        }
       ],
       "schema": {
        "fields": [
         {
          "name": "index",
          "type": "string"
         },
         {
          "name": "values",
          "type": "string"
         }
        ],
        "pandas_version": "0.20.0",
        "primaryKey": [
         "index"
        ]
       }
      },
      "text/plain": [
       "tgl_mulai                             object\n",
       "jangka_waktu                           int64\n",
       "plafond                              float64\n",
       "jenis_kelamin                         object\n",
       "pendidikan                            object\n",
       "status_nikah                          object\n",
       "jumlah_anak_dlm_tanggungan             int64\n",
       "kepemilikan_tempat_tinggal            object\n",
       "debitur_lama                         float64\n",
       "tujuan_penggunaan                     object\n",
       "status_bukti_kepemilikan_agunan       object\n",
       "lama_bekerja                           int64\n",
       "pemasaran                            float64\n",
       "simpanan                             float64\n",
       "usia                                 float64\n",
       "ratio_pendatapan_to_angsuran         float64\n",
       "punya_usaha_sampingan                float64\n",
       "ratio_likuidasi_agunan_to_plafond    float64\n",
       "target                                 int64\n",
       "dtype: object"
      ]
     },
     "execution_count": 263,
     "metadata": {},
     "output_type": "execute_result"
    }
   ],
   "source": [
    "df_create.dtypes"
   ]
  },
  {
   "cell_type": "code",
   "execution_count": 264,
   "metadata": {},
   "outputs": [],
   "source": [
    "df_create = df_create.drop(labels=['status_bukti_kepemilikan_agunan','ratio_likuidasi_agunan_to_plafond','pemasaran'], axis=1)"
   ]
  },
  {
   "cell_type": "code",
   "execution_count": 265,
   "metadata": {},
   "outputs": [],
   "source": [
    "dtype = df_create.dtypes.drop([\n",
    "  'tgl_mulai','target',\n",
    "#  'jenis_fasilitas','bln_mulai',\n",
    "#  'suku_bunga','baru_perpanjangan','jabatan','bidang_pekerjaan','jenis_pekerjaan','region'\n",
    "])\n",
    "list_col = dtype.index.values.tolist()"
   ]
  },
  {
   "cell_type": "code",
   "execution_count": 266,
   "metadata": {},
   "outputs": [],
   "source": [
    "X = df_create.loc[:, list_col]"
   ]
  },
  {
   "cell_type": "code",
   "execution_count": 267,
   "metadata": {},
   "outputs": [],
   "source": [
    "X.reset_index(drop=True, inplace=True)"
   ]
  },
  {
   "cell_type": "code",
   "execution_count": 268,
   "metadata": {},
   "outputs": [
    {
     "data": {
      "application/vnd.dataresource+json": {
       "data": [
        {
         "debitur_lama": 1,
         "index": 0,
         "jangka_waktu": 24,
         "jenis_kelamin": "M",
         "jumlah_anak_dlm_tanggungan": 1,
         "kepemilikan_tempat_tinggal": "MilikSendiri",
         "lama_bekerja": 1,
         "pendidikan": "SD/SMP/SMU/SMK",
         "plafond": 25000000,
         "punya_usaha_sampingan": 1,
         "ratio_pendatapan_to_angsuran": 1.41481,
         "simpanan": 1238400,
         "status_nikah": "BelumMenikah",
         "tujuan_penggunaan": "KI",
         "usia": 71
        }
       ],
       "schema": {
        "fields": [
         {
          "name": "index",
          "type": "integer"
         },
         {
          "name": "jangka_waktu",
          "type": "integer"
         },
         {
          "name": "plafond",
          "type": "number"
         },
         {
          "name": "jenis_kelamin",
          "type": "string"
         },
         {
          "name": "pendidikan",
          "type": "string"
         },
         {
          "name": "status_nikah",
          "type": "string"
         },
         {
          "name": "jumlah_anak_dlm_tanggungan",
          "type": "integer"
         },
         {
          "name": "kepemilikan_tempat_tinggal",
          "type": "string"
         },
         {
          "name": "debitur_lama",
          "type": "number"
         },
         {
          "name": "tujuan_penggunaan",
          "type": "string"
         },
         {
          "name": "lama_bekerja",
          "type": "integer"
         },
         {
          "name": "simpanan",
          "type": "number"
         },
         {
          "name": "usia",
          "type": "number"
         },
         {
          "name": "ratio_pendatapan_to_angsuran",
          "type": "number"
         },
         {
          "name": "punya_usaha_sampingan",
          "type": "number"
         }
        ],
        "pandas_version": "0.20.0",
        "primaryKey": [
         "index"
        ]
       }
      },
      "text/html": [
       "<div>\n",
       "<style scoped>\n",
       "    .dataframe tbody tr th:only-of-type {\n",
       "        vertical-align: middle;\n",
       "    }\n",
       "\n",
       "    .dataframe tbody tr th {\n",
       "        vertical-align: top;\n",
       "    }\n",
       "\n",
       "    .dataframe thead th {\n",
       "        text-align: right;\n",
       "    }\n",
       "</style>\n",
       "<table border=\"1\" class=\"dataframe\">\n",
       "  <thead>\n",
       "    <tr style=\"text-align: right;\">\n",
       "      <th></th>\n",
       "      <th>jangka_waktu</th>\n",
       "      <th>plafond</th>\n",
       "      <th>jenis_kelamin</th>\n",
       "      <th>pendidikan</th>\n",
       "      <th>status_nikah</th>\n",
       "      <th>jumlah_anak_dlm_tanggungan</th>\n",
       "      <th>kepemilikan_tempat_tinggal</th>\n",
       "      <th>debitur_lama</th>\n",
       "      <th>tujuan_penggunaan</th>\n",
       "      <th>lama_bekerja</th>\n",
       "      <th>simpanan</th>\n",
       "      <th>usia</th>\n",
       "      <th>ratio_pendatapan_to_angsuran</th>\n",
       "      <th>punya_usaha_sampingan</th>\n",
       "    </tr>\n",
       "  </thead>\n",
       "  <tbody>\n",
       "    <tr>\n",
       "      <th>0</th>\n",
       "      <td>24</td>\n",
       "      <td>25000000.0</td>\n",
       "      <td>M</td>\n",
       "      <td>SD/SMP/SMU/SMK</td>\n",
       "      <td>BelumMenikah</td>\n",
       "      <td>1</td>\n",
       "      <td>MilikSendiri</td>\n",
       "      <td>1.0</td>\n",
       "      <td>KI</td>\n",
       "      <td>1</td>\n",
       "      <td>1238400.0</td>\n",
       "      <td>71.0</td>\n",
       "      <td>1.41481</td>\n",
       "      <td>1.0</td>\n",
       "    </tr>\n",
       "  </tbody>\n",
       "</table>\n",
       "</div>"
      ],
      "text/plain": [
       "   jangka_waktu     plafond jenis_kelamin      pendidikan  status_nikah  \\\n",
       "0            24  25000000.0             M  SD/SMP/SMU/SMK  BelumMenikah   \n",
       "\n",
       "   jumlah_anak_dlm_tanggungan kepemilikan_tempat_tinggal  debitur_lama  \\\n",
       "0                           1               MilikSendiri           1.0   \n",
       "\n",
       "  tujuan_penggunaan  lama_bekerja   simpanan  usia  \\\n",
       "0                KI             1  1238400.0  71.0   \n",
       "\n",
       "   ratio_pendatapan_to_angsuran  punya_usaha_sampingan  \n",
       "0                       1.41481                    1.0  "
      ]
     },
     "execution_count": 268,
     "metadata": {},
     "output_type": "execute_result"
    }
   ],
   "source": [
    "X"
   ]
  },
  {
   "cell_type": "code",
   "execution_count": 269,
   "metadata": {},
   "outputs": [
    {
     "data": {
      "application/vnd.dataresource+json": {
       "data": [
        {
         "index": "jangka_waktu",
         "values": {
          "alignment": 8,
          "byteorder": "=",
          "descr": [
           [
            "",
            "<i8"
           ]
          ],
          "flags": 0,
          "isalignedstruct": false,
          "isnative": true,
          "kind": "i",
          "name": "int64",
          "ndim": 0,
          "num": 7,
          "str": "<i8"
         }
        },
        {
         "index": "plafond",
         "values": {
          "alignment": 8,
          "byteorder": "=",
          "descr": [
           [
            "",
            "<f8"
           ]
          ],
          "flags": 0,
          "isalignedstruct": false,
          "isnative": true,
          "kind": "f",
          "name": "float64",
          "ndim": 0,
          "num": 12,
          "str": "<f8"
         }
        },
        {
         "index": "jenis_kelamin",
         "values": {
          "alignment": 8,
          "byteorder": "|",
          "descr": [
           [
            "",
            "|O"
           ]
          ],
          "flags": 63,
          "isalignedstruct": false,
          "isnative": true,
          "kind": "O",
          "name": "object",
          "ndim": 0,
          "num": 17,
          "str": "|O"
         }
        },
        {
         "index": "pendidikan",
         "values": {
          "alignment": 8,
          "byteorder": "|",
          "descr": [
           [
            "",
            "|O"
           ]
          ],
          "flags": 63,
          "isalignedstruct": false,
          "isnative": true,
          "kind": "O",
          "name": "object",
          "ndim": 0,
          "num": 17,
          "str": "|O"
         }
        },
        {
         "index": "status_nikah",
         "values": {
          "alignment": 8,
          "byteorder": "|",
          "descr": [
           [
            "",
            "|O"
           ]
          ],
          "flags": 63,
          "isalignedstruct": false,
          "isnative": true,
          "kind": "O",
          "name": "object",
          "ndim": 0,
          "num": 17,
          "str": "|O"
         }
        },
        {
         "index": "jumlah_anak_dlm_tanggungan",
         "values": {
          "alignment": 8,
          "byteorder": "=",
          "descr": [
           [
            "",
            "<i8"
           ]
          ],
          "flags": 0,
          "isalignedstruct": false,
          "isnative": true,
          "kind": "i",
          "name": "int64",
          "ndim": 0,
          "num": 7,
          "str": "<i8"
         }
        },
        {
         "index": "kepemilikan_tempat_tinggal",
         "values": {
          "alignment": 8,
          "byteorder": "|",
          "descr": [
           [
            "",
            "|O"
           ]
          ],
          "flags": 63,
          "isalignedstruct": false,
          "isnative": true,
          "kind": "O",
          "name": "object",
          "ndim": 0,
          "num": 17,
          "str": "|O"
         }
        },
        {
         "index": "debitur_lama",
         "values": {
          "alignment": 8,
          "byteorder": "=",
          "descr": [
           [
            "",
            "<f8"
           ]
          ],
          "flags": 0,
          "isalignedstruct": false,
          "isnative": true,
          "kind": "f",
          "name": "float64",
          "ndim": 0,
          "num": 12,
          "str": "<f8"
         }
        },
        {
         "index": "tujuan_penggunaan",
         "values": {
          "alignment": 8,
          "byteorder": "|",
          "descr": [
           [
            "",
            "|O"
           ]
          ],
          "flags": 63,
          "isalignedstruct": false,
          "isnative": true,
          "kind": "O",
          "name": "object",
          "ndim": 0,
          "num": 17,
          "str": "|O"
         }
        },
        {
         "index": "lama_bekerja",
         "values": {
          "alignment": 8,
          "byteorder": "=",
          "descr": [
           [
            "",
            "<i8"
           ]
          ],
          "flags": 0,
          "isalignedstruct": false,
          "isnative": true,
          "kind": "i",
          "name": "int64",
          "ndim": 0,
          "num": 7,
          "str": "<i8"
         }
        },
        {
         "index": "simpanan",
         "values": {
          "alignment": 8,
          "byteorder": "=",
          "descr": [
           [
            "",
            "<f8"
           ]
          ],
          "flags": 0,
          "isalignedstruct": false,
          "isnative": true,
          "kind": "f",
          "name": "float64",
          "ndim": 0,
          "num": 12,
          "str": "<f8"
         }
        },
        {
         "index": "usia",
         "values": {
          "alignment": 8,
          "byteorder": "=",
          "descr": [
           [
            "",
            "<f8"
           ]
          ],
          "flags": 0,
          "isalignedstruct": false,
          "isnative": true,
          "kind": "f",
          "name": "float64",
          "ndim": 0,
          "num": 12,
          "str": "<f8"
         }
        },
        {
         "index": "ratio_pendatapan_to_angsuran",
         "values": {
          "alignment": 8,
          "byteorder": "=",
          "descr": [
           [
            "",
            "<f8"
           ]
          ],
          "flags": 0,
          "isalignedstruct": false,
          "isnative": true,
          "kind": "f",
          "name": "float64",
          "ndim": 0,
          "num": 12,
          "str": "<f8"
         }
        },
        {
         "index": "punya_usaha_sampingan",
         "values": {
          "alignment": 8,
          "byteorder": "=",
          "descr": [
           [
            "",
            "<f8"
           ]
          ],
          "flags": 0,
          "isalignedstruct": false,
          "isnative": true,
          "kind": "f",
          "name": "float64",
          "ndim": 0,
          "num": 12,
          "str": "<f8"
         }
        }
       ],
       "schema": {
        "fields": [
         {
          "name": "index",
          "type": "string"
         },
         {
          "name": "values",
          "type": "string"
         }
        ],
        "pandas_version": "0.20.0",
        "primaryKey": [
         "index"
        ]
       }
      },
      "text/plain": [
       "jangka_waktu                      int64\n",
       "plafond                         float64\n",
       "jenis_kelamin                    object\n",
       "pendidikan                       object\n",
       "status_nikah                     object\n",
       "jumlah_anak_dlm_tanggungan        int64\n",
       "kepemilikan_tempat_tinggal       object\n",
       "debitur_lama                    float64\n",
       "tujuan_penggunaan                object\n",
       "lama_bekerja                      int64\n",
       "simpanan                        float64\n",
       "usia                            float64\n",
       "ratio_pendatapan_to_angsuran    float64\n",
       "punya_usaha_sampingan           float64\n",
       "dtype: object"
      ]
     },
     "execution_count": 269,
     "metadata": {},
     "output_type": "execute_result"
    }
   ],
   "source": [
    "X.dtypes"
   ]
  },
  {
   "cell_type": "code",
   "execution_count": 234,
   "metadata": {},
   "outputs": [],
   "source": [
    "# X_test = df.loc[:, list_col]\n",
    "# Y_test = df.loc[:,'target']"
   ]
  },
  {
   "cell_type": "code",
   "execution_count": 235,
   "metadata": {},
   "outputs": [],
   "source": [
    "# X_test = X_test.iloc[[20]]\n",
    "# Y_test = Y_test.iloc[[20]]"
   ]
  },
  {
   "cell_type": "code",
   "execution_count": 236,
   "metadata": {},
   "outputs": [],
   "source": [
    "# X_test.reset_index(drop=True, inplace=True)\n",
    "# Y_test.reset_index(drop=True, inplace=True)"
   ]
  },
  {
   "cell_type": "code",
   "execution_count": 237,
   "metadata": {},
   "outputs": [
    {
     "name": "stderr",
     "output_type": "stream",
     "text": [
      "/usr/local/lib/python3.6/site-packages/sklearn/base.py:311: UserWarning: Trying to unpickle estimator LabelEncoder from version 0.19.0 when using version 0.19.1. This might lead to breaking code or invalid results. Use at your own risk.\n",
      "  UserWarning)\n",
      "/usr/local/lib/python3.6/site-packages/sklearn/base.py:311: UserWarning: Trying to unpickle estimator OneHotEncoder from version 0.19.0 when using version 0.19.1. This might lead to breaking code or invalid results. Use at your own risk.\n",
      "  UserWarning)\n",
      "/usr/local/lib/python3.6/site-packages/sklearn/base.py:311: UserWarning: Trying to unpickle estimator Pipeline from version 0.19.0 when using version 0.19.1. This might lead to breaking code or invalid results. Use at your own risk.\n",
      "  UserWarning)\n"
     ]
    }
   ],
   "source": [
    "dtype,categorical_feat_classes,list_col_cat,list_idx_cat,categorical_onehot_idx,categorical_onehot_nval,colname = joblib.load('./model/las_kupedes_ultramikro_v3_var.sav')\n",
    "#le,pipeline_preprocess = joblib.load('./model/las_kupedes_ultramikro_v3_preprocess.sav')\n",
    "le,pipeline_preprocess = joblib.load('./model/las_kupedes_ultramikro_v3_preprocess_wo_scaler.sav')"
   ]
  },
  {
   "cell_type": "code",
   "execution_count": 238,
   "metadata": {},
   "outputs": [],
   "source": [
    "# X_test = le.transform(X_test)\n",
    "# X_test = pipeline_preprocess.transform(X_test)"
   ]
  },
  {
   "cell_type": "code",
   "execution_count": 270,
   "metadata": {},
   "outputs": [],
   "source": [
    "X = le.transform(X)\n",
    "X = pipeline_preprocess.transform(X)"
   ]
  },
  {
   "cell_type": "code",
   "execution_count": 239,
   "metadata": {},
   "outputs": [],
   "source": [
    "# bst = joblib.load('./model/las_kupedes_ultramikro_v3_cv_xgb.sav')\n",
    "# y_test_pred = bst.predict(X_test)"
   ]
  },
  {
   "cell_type": "code",
   "execution_count": 271,
   "metadata": {},
   "outputs": [],
   "source": [
    "bst = joblib.load('./model/las_kupedes_ultramikro_v3_cv_xgb.sav')\n",
    "Y = bst.predict(X)"
   ]
  },
  {
   "cell_type": "code",
   "execution_count": 240,
   "metadata": {},
   "outputs": [
    {
     "name": "stdout",
     "output_type": "stream",
     "text": [
      "[0.11941036]\n"
     ]
    }
   ],
   "source": [
    "# y_test_pred = y_test_pred.values \n",
    "# print(y_test_pred)"
   ]
  },
  {
   "cell_type": "code",
   "execution_count": 272,
   "metadata": {},
   "outputs": [
    {
     "name": "stdout",
     "output_type": "stream",
     "text": [
      "[0.10587983]\n"
     ]
    }
   ],
   "source": [
    "Y = Y.values \n",
    "print(Y)"
   ]
  },
  {
   "cell_type": "code",
   "execution_count": 273,
   "metadata": {},
   "outputs": [],
   "source": [
    "df_grade = pd.read_csv(\"./model/las_kupedes_ultramikro_v3_cv_xgb_grade.csv\")"
   ]
  },
  {
   "cell_type": "code",
   "execution_count": 274,
   "metadata": {},
   "outputs": [
    {
     "data": {
      "application/vnd.dataresource+json": {
       "data": [
        {
         "Proba_MAX": 0.0399650484,
         "Proba_MIN": 0.0109892329,
         "Rating": 1,
         "Score_MAX": 1000,
         "Score_MIN": 920,
         "Total": 9443,
         "index": 0
        },
        {
         "Proba_MAX": 0.0704177767,
         "Proba_MIN": 0.0399967954,
         "Rating": 2,
         "Score_MAX": 920,
         "Score_MIN": 859,
         "Total": 3845,
         "index": 1
        },
        {
         "Proba_MAX": 0.0968813747,
         "Proba_MIN": 0.0704298541,
         "Rating": 3,
         "Score_MAX": 859,
         "Score_MIN": 806,
         "Total": 4679,
         "index": 2
        },
        {
         "Proba_MAX": 0.1223992482,
         "Proba_MIN": 0.0968978181,
         "Rating": 4,
         "Score_MAX": 806,
         "Score_MIN": 755,
         "Total": 5260,
         "index": 3
        },
        {
         "Proba_MAX": 0.1459954083,
         "Proba_MIN": 0.1224079654,
         "Rating": 5,
         "Score_MAX": 755,
         "Score_MIN": 708,
         "Total": 6511,
         "index": 4
        },
        {
         "Proba_MAX": 0.1751088053,
         "Proba_MIN": 0.14601776,
         "Rating": 6,
         "Score_MAX": 708,
         "Score_MIN": 650,
         "Total": 4273,
         "index": 5
        },
        {
         "Proba_MAX": 0.224276334,
         "Proba_MIN": 0.175141871,
         "Rating": 7,
         "Score_MAX": 650,
         "Score_MIN": 551,
         "Total": 1535,
         "index": 6
        },
        {
         "Proba_MAX": 0.4097332358,
         "Proba_MIN": 0.2250217348,
         "Rating": 8,
         "Score_MAX": 550,
         "Score_MIN": 0,
         "Total": 235,
         "index": 7
        }
       ],
       "schema": {
        "fields": [
         {
          "name": "index",
          "type": "integer"
         },
         {
          "name": "Rating",
          "type": "integer"
         },
         {
          "name": "Proba_MIN",
          "type": "number"
         },
         {
          "name": "Proba_MAX",
          "type": "number"
         },
         {
          "name": "Score_MIN",
          "type": "number"
         },
         {
          "name": "Score_MAX",
          "type": "number"
         },
         {
          "name": "Total",
          "type": "integer"
         }
        ],
        "pandas_version": "0.20.0",
        "primaryKey": [
         "index"
        ]
       }
      },
      "text/html": [
       "<div>\n",
       "<style scoped>\n",
       "    .dataframe tbody tr th:only-of-type {\n",
       "        vertical-align: middle;\n",
       "    }\n",
       "\n",
       "    .dataframe tbody tr th {\n",
       "        vertical-align: top;\n",
       "    }\n",
       "\n",
       "    .dataframe thead th {\n",
       "        text-align: right;\n",
       "    }\n",
       "</style>\n",
       "<table border=\"1\" class=\"dataframe\">\n",
       "  <thead>\n",
       "    <tr style=\"text-align: right;\">\n",
       "      <th></th>\n",
       "      <th>Rating</th>\n",
       "      <th>Proba_MIN</th>\n",
       "      <th>Proba_MAX</th>\n",
       "      <th>Score_MIN</th>\n",
       "      <th>Score_MAX</th>\n",
       "      <th>Total</th>\n",
       "    </tr>\n",
       "  </thead>\n",
       "  <tbody>\n",
       "    <tr>\n",
       "      <th>0</th>\n",
       "      <td>1</td>\n",
       "      <td>0.010989</td>\n",
       "      <td>0.039965</td>\n",
       "      <td>920.0</td>\n",
       "      <td>1000.0</td>\n",
       "      <td>9443</td>\n",
       "    </tr>\n",
       "    <tr>\n",
       "      <th>1</th>\n",
       "      <td>2</td>\n",
       "      <td>0.039997</td>\n",
       "      <td>0.070418</td>\n",
       "      <td>859.0</td>\n",
       "      <td>920.0</td>\n",
       "      <td>3845</td>\n",
       "    </tr>\n",
       "    <tr>\n",
       "      <th>2</th>\n",
       "      <td>3</td>\n",
       "      <td>0.070430</td>\n",
       "      <td>0.096881</td>\n",
       "      <td>806.0</td>\n",
       "      <td>859.0</td>\n",
       "      <td>4679</td>\n",
       "    </tr>\n",
       "    <tr>\n",
       "      <th>3</th>\n",
       "      <td>4</td>\n",
       "      <td>0.096898</td>\n",
       "      <td>0.122399</td>\n",
       "      <td>755.0</td>\n",
       "      <td>806.0</td>\n",
       "      <td>5260</td>\n",
       "    </tr>\n",
       "    <tr>\n",
       "      <th>4</th>\n",
       "      <td>5</td>\n",
       "      <td>0.122408</td>\n",
       "      <td>0.145995</td>\n",
       "      <td>708.0</td>\n",
       "      <td>755.0</td>\n",
       "      <td>6511</td>\n",
       "    </tr>\n",
       "    <tr>\n",
       "      <th>5</th>\n",
       "      <td>6</td>\n",
       "      <td>0.146018</td>\n",
       "      <td>0.175109</td>\n",
       "      <td>650.0</td>\n",
       "      <td>708.0</td>\n",
       "      <td>4273</td>\n",
       "    </tr>\n",
       "    <tr>\n",
       "      <th>6</th>\n",
       "      <td>7</td>\n",
       "      <td>0.175142</td>\n",
       "      <td>0.224276</td>\n",
       "      <td>551.0</td>\n",
       "      <td>650.0</td>\n",
       "      <td>1535</td>\n",
       "    </tr>\n",
       "    <tr>\n",
       "      <th>7</th>\n",
       "      <td>8</td>\n",
       "      <td>0.225022</td>\n",
       "      <td>0.409733</td>\n",
       "      <td>0.0</td>\n",
       "      <td>550.0</td>\n",
       "      <td>235</td>\n",
       "    </tr>\n",
       "  </tbody>\n",
       "</table>\n",
       "</div>"
      ],
      "text/plain": [
       "   Rating  Proba_MIN  Proba_MAX  Score_MIN  Score_MAX  Total\n",
       "0       1   0.010989   0.039965      920.0     1000.0   9443\n",
       "1       2   0.039997   0.070418      859.0      920.0   3845\n",
       "2       3   0.070430   0.096881      806.0      859.0   4679\n",
       "3       4   0.096898   0.122399      755.0      806.0   5260\n",
       "4       5   0.122408   0.145995      708.0      755.0   6511\n",
       "5       6   0.146018   0.175109      650.0      708.0   4273\n",
       "6       7   0.175142   0.224276      551.0      650.0   1535\n",
       "7       8   0.225022   0.409733        0.0      550.0    235"
      ]
     },
     "execution_count": 274,
     "metadata": {},
     "output_type": "execute_result"
    }
   ],
   "source": [
    "df_grade"
   ]
  },
  {
   "cell_type": "code",
   "execution_count": 275,
   "metadata": {},
   "outputs": [],
   "source": [
    "# if y_test_pred>=0 and y_test_pred<=df_grade.loc[0,'Proba_MAX']:\n",
    "#     score = (((((y_test_pred-df_grade.loc[0,'Proba_MIN'])*(df_grade.loc[0,'Score_MIN']-df_grade.loc[0,'Score_MAX']))/(df_grade.loc[0,'Proba_MAX']-df_grade.loc[0,'Proba_MIN'])))+df_grade.loc[0,'Score_MAX'])\n",
    "#     rating = df_grade.loc[0,'Rating'] \n",
    "# elif y_test_pred>=df_grade.loc[len(df_grade.index)-2,'Proba_MAX'] and y_test_pred<=1:\n",
    "#         index = len(df_grade.index)-1\n",
    "#         score = (((((y_test_pred-df_grade.loc[index-1,'Proba_MAX'])*(df_grade.loc[index,'Score_MIN']-df_grade.loc[index,'Score_MAX']))/(1-df_grade.loc[index-1,'Proba_MAX'])))+df_grade.loc[index,'Score_MAX'])\n",
    "#         rating = df_grade.loc[index,'Rating']  \n",
    "# else:    \n",
    "#     for index in range (1,(len(df_grade.index)-1)):\n",
    "#         if y_test_pred>=df_grade.loc[index-1,'Proba_MAX'] and y_test_pred<=df_grade.loc[index,'Proba_MAX']:\n",
    "#             score = (((((y_test_pred-df_grade.loc[index-1,'Proba_MAX'])*(df_grade.loc[index,'Score_MIN']-df_grade.loc[index,'Score_MAX']))/(df_grade.loc[index,'Proba_MAX']-df_grade.loc[index-1,'Proba_MAX'])))+df_grade.loc[index,'Score_MAX'])\n",
    "#             rating = df_grade.loc[index,'Rating']\n",
    "#             break"
   ]
  },
  {
   "cell_type": "code",
   "execution_count": 278,
   "metadata": {},
   "outputs": [],
   "source": [
    "if Y>=0 and Y<=df_grade.loc[0,'Proba_MAX']:\n",
    "    score = (((((Y-df_grade.loc[0,'Proba_MIN'])*(df_grade.loc[0,'Score_MIN']-df_grade.loc[0,'Score_MAX']))/(df_grade.loc[0,'Proba_MAX']-df_grade.loc[0,'Proba_MIN'])))+df_grade.loc[0,'Score_MAX'])\n",
    "    rating = df_grade.loc[0,'Rating'] \n",
    "elif Y>=df_grade.loc[len(df_grade.index)-2,'Proba_MAX'] and Y<=1:\n",
    "        index = len(df_grade.index)-1\n",
    "        score = (((((Y-df_grade.loc[index-1,'Proba_MAX'])*(df_grade.loc[index,'Score_MIN']-df_grade.loc[index,'Score_MAX']))/(1-df_grade.loc[index-1,'Proba_MAX'])))+df_grade.loc[index,'Score_MAX'])\n",
    "        rating = df_grade.loc[index,'Rating']  \n",
    "else:    \n",
    "    for index in range (1,(len(df_grade.index)-1)):\n",
    "        if Y>=df_grade.loc[index-1,'Proba_MAX'] and Y<=df_grade.loc[index,'Proba_MAX']:\n",
    "            score = (((((Y-df_grade.loc[index-1,'Proba_MAX'])*(df_grade.loc[index,'Score_MIN']-df_grade.loc[index,'Score_MAX']))/(df_grade.loc[index,'Proba_MAX']-df_grade.loc[index-1,'Proba_MAX'])))+df_grade.loc[index,'Score_MAX'])\n",
    "            rating = df_grade.loc[index,'Rating']\n",
    "            break"
   ]
  },
  {
   "cell_type": "code",
   "execution_count": 279,
   "metadata": {},
   "outputs": [
    {
     "name": "stdout",
     "output_type": "stream",
     "text": [
      "[788.01569833]\n",
      "4\n"
     ]
    }
   ],
   "source": [
    "print(score)\n",
    "print(rating)"
   ]
  },
  {
   "cell_type": "code",
   "execution_count": null,
   "metadata": {},
   "outputs": [],
   "source": []
  }
 ],
 "metadata": {
  "kernelspec": {
   "display_name": "Python 3",
   "language": "python",
   "name": "python3"
  },
  "language_info": {
   "codemirror_mode": {
    "name": "ipython",
    "version": 3
   },
   "file_extension": ".py",
   "mimetype": "text/x-python",
   "name": "python",
   "nbconvert_exporter": "python",
   "pygments_lexer": "ipython3",
   "version": "3.6.4"
  }
 },
 "nbformat": 4,
 "nbformat_minor": 2
}
